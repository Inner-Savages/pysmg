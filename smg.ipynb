{
 "cells": [
  {
   "cell_type": "code",
   "execution_count": 288,
   "outputs": [
    {
     "data": {
      "text/plain": "                timestamp          machineid      metric              value  \\\n0     2019-05-01 13:00:00  KLDSMG_LK3___045L     VERSION                3.9   \n1     2019-05-01 13:00:00  KLDSMG_LK3___045L   PRODUCENT          MTSILESIA   \n2     2019-05-01 13:00:00  KLDSMG_LK3___045L  MACADDRESS  4c:5e:0c:13:34:0f   \n3     2019-05-01 13:00:00  KLDSMG_LK3___045L      ENGRPM               1185   \n4     2019-05-01 13:00:00  KLDSMG_LK3___045L    ENGCOOLT                 67   \n...                   ...                ...         ...                ...   \n31442 2019-05-01 13:59:59  KLDSMG_LK3___045L     SELGEAR                  2   \n31443 2019-05-01 13:59:59  KLDSMG_LK3___045L       SPEED                  7   \n31444 2019-05-01 13:59:59  KLDSMG_LK3___045L  SWITCHMOVE                  0   \n31445 2019-05-01 13:59:59  KLDSMG_LK3___045L      BREAKP              11600   \n31446 2019-05-01 13:59:59  KLDSMG_LK3___045L     HYDOILP               8.21   \n\n      unit  quality  \n0      NaN      192  \n1      NaN      192  \n2      NaN      192  \n3      rpm      192  \n4       °C      192  \n...    ...      ...  \n31442  _/_      192  \n31443  kmh      192  \n31444  NaN      192  \n31445  kPa      192  \n31446  MPa      192  \n\n[31447 rows x 6 columns]",
      "text/html": "<div>\n<style scoped>\n    .dataframe tbody tr th:only-of-type {\n        vertical-align: middle;\n    }\n\n    .dataframe tbody tr th {\n        vertical-align: top;\n    }\n\n    .dataframe thead th {\n        text-align: right;\n    }\n</style>\n<table border=\"1\" class=\"dataframe\">\n  <thead>\n    <tr style=\"text-align: right;\">\n      <th></th>\n      <th>timestamp</th>\n      <th>machineid</th>\n      <th>metric</th>\n      <th>value</th>\n      <th>unit</th>\n      <th>quality</th>\n    </tr>\n  </thead>\n  <tbody>\n    <tr>\n      <th>0</th>\n      <td>2019-05-01 13:00:00</td>\n      <td>KLDSMG_LK3___045L</td>\n      <td>VERSION</td>\n      <td>3.9</td>\n      <td>NaN</td>\n      <td>192</td>\n    </tr>\n    <tr>\n      <th>1</th>\n      <td>2019-05-01 13:00:00</td>\n      <td>KLDSMG_LK3___045L</td>\n      <td>PRODUCENT</td>\n      <td>MTSILESIA</td>\n      <td>NaN</td>\n      <td>192</td>\n    </tr>\n    <tr>\n      <th>2</th>\n      <td>2019-05-01 13:00:00</td>\n      <td>KLDSMG_LK3___045L</td>\n      <td>MACADDRESS</td>\n      <td>4c:5e:0c:13:34:0f</td>\n      <td>NaN</td>\n      <td>192</td>\n    </tr>\n    <tr>\n      <th>3</th>\n      <td>2019-05-01 13:00:00</td>\n      <td>KLDSMG_LK3___045L</td>\n      <td>ENGRPM</td>\n      <td>1185</td>\n      <td>rpm</td>\n      <td>192</td>\n    </tr>\n    <tr>\n      <th>4</th>\n      <td>2019-05-01 13:00:00</td>\n      <td>KLDSMG_LK3___045L</td>\n      <td>ENGCOOLT</td>\n      <td>67</td>\n      <td>°C</td>\n      <td>192</td>\n    </tr>\n    <tr>\n      <th>...</th>\n      <td>...</td>\n      <td>...</td>\n      <td>...</td>\n      <td>...</td>\n      <td>...</td>\n      <td>...</td>\n    </tr>\n    <tr>\n      <th>31442</th>\n      <td>2019-05-01 13:59:59</td>\n      <td>KLDSMG_LK3___045L</td>\n      <td>SELGEAR</td>\n      <td>2</td>\n      <td>_/_</td>\n      <td>192</td>\n    </tr>\n    <tr>\n      <th>31443</th>\n      <td>2019-05-01 13:59:59</td>\n      <td>KLDSMG_LK3___045L</td>\n      <td>SPEED</td>\n      <td>7</td>\n      <td>kmh</td>\n      <td>192</td>\n    </tr>\n    <tr>\n      <th>31444</th>\n      <td>2019-05-01 13:59:59</td>\n      <td>KLDSMG_LK3___045L</td>\n      <td>SWITCHMOVE</td>\n      <td>0</td>\n      <td>NaN</td>\n      <td>192</td>\n    </tr>\n    <tr>\n      <th>31445</th>\n      <td>2019-05-01 13:59:59</td>\n      <td>KLDSMG_LK3___045L</td>\n      <td>BREAKP</td>\n      <td>11600</td>\n      <td>kPa</td>\n      <td>192</td>\n    </tr>\n    <tr>\n      <th>31446</th>\n      <td>2019-05-01 13:59:59</td>\n      <td>KLDSMG_LK3___045L</td>\n      <td>HYDOILP</td>\n      <td>8.21</td>\n      <td>MPa</td>\n      <td>192</td>\n    </tr>\n  </tbody>\n</table>\n<p>31447 rows × 6 columns</p>\n</div>"
     },
     "execution_count": 288,
     "metadata": {},
     "output_type": "execute_result"
    }
   ],
   "source": [
    "import datetime\n",
    "\n",
    "import numpy as np\n",
    "import pandas\n",
    "import pandas as pd\n",
    "import matplotlib.pyplot as plt\n",
    "\n",
    "def date_parser(string_list):\n",
    "    return datetime.datetime.strptime(string_list,\"%Y/%m/%d %H:%M:%S.%f\")\n",
    "\n",
    "df = pd.read_csv(\n",
    "    filepath_or_buffer='/home/q84fh/Projekty/CuValleyHack/Zadanie 1 Analiza danych Maszyn SMG/KLDSMG_LK3___045L_20190501_13-14.csv',\n",
    "    sep='|',\n",
    "    index_col=False,\n",
    "    skiprows=3,\n",
    "    parse_dates={\"timestamp\": [2,3]},\n",
    "    date_parser=date_parser,\n",
    "    names=['metric','smth','s','date','time','value','quality']\n",
    "\n",
    ")\n",
    "df = df[df.quality == 192]\n",
    "\n",
    "df['machineid'] = df[\"metric\"].str.extract(r'^(.*\\d{3}L)')\n",
    "df['unit'] = df[\"metric\"].str.extract(r'A(.{3})$')\n",
    "df['unit'] = df['unit'].str.replace('__C','°C')\n",
    "df['metric'] = df['metric'].str.extract(r'^.*\\d{3}L([A-Z]*)(?:___|$|_D)')\n",
    "df = df[['timestamp','machineid','metric','value','unit','quality']]\n",
    "\n",
    "df"
   ],
   "metadata": {
    "collapsed": false,
    "pycharm": {
     "name": "#%%\n"
    }
   }
  },
  {
   "cell_type": "code",
   "execution_count": null,
   "outputs": [],
   "source": [],
   "metadata": {
    "collapsed": false,
    "pycharm": {
     "name": "#%%\n"
    }
   }
  }
 ],
 "metadata": {
  "kernelspec": {
   "display_name": "Python 3",
   "language": "python",
   "name": "python3"
  },
  "language_info": {
   "codemirror_mode": {
    "name": "ipython",
    "version": 2
   },
   "file_extension": ".py",
   "mimetype": "text/x-python",
   "name": "python",
   "nbconvert_exporter": "python",
   "pygments_lexer": "ipython2",
   "version": "2.7.6"
  }
 },
 "nbformat": 4,
 "nbformat_minor": 0
}