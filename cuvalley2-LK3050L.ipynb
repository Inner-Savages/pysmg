{
 "cells": [
  {
   "cell_type": "code",
   "execution_count": 1,
   "id": "6c28a003",
   "metadata": {},
   "outputs": [],
   "source": [
    "from itertools import chain\n",
    "def process_csv(path, dirty_acceptation=25):\n",
    "    series = ['ENGRPM', 'FUELUS', 'ENGTPS', 'GROILP', 'SELGEAR', 'SPEED', 'BREAKP', 'TRNAUT', 'HYDOILP']\n",
    "    f = open(path, 'rt')\n",
    "    csv_content = f.readlines()\n",
    "    f.close()\n",
    "    output = []\n",
    "    if len(csv_content) > 0 and csv_content[0] == \"ASCII\\n\":\n",
    "        sep = csv_content[1].replace(\"\\n\", \"\")\n",
    "        s = 0\n",
    "        dirty = False\n",
    "        ts = None\n",
    "        sample = [[None for i in range(9)] for i in range(5)]\n",
    "        for line in csv_content:\n",
    "            line = line.replace(\"\\n\", \"\").split(sep)\n",
    "            if not dirty:\n",
    "                for i, j in enumerate(series):\n",
    "                    if j in line[0]:\n",
    "                        if ts is None:\n",
    "                            ts = line[3]\n",
    "                        if ts != line[3] and s != 4:\n",
    "                            ts = line[3]\n",
    "                            s += 1\n",
    "                        if line[6] != \"192\":\n",
    "                            sample[s][i] = None\n",
    "#                             dirty = True\n",
    "                        else:\n",
    "                            sample[s][i] = float(line[5])\n",
    "                        break\n",
    "            if 'ENGOILP' in line[0]:\n",
    "                if line[6] == \"192\":\n",
    "                    sample = list(chain(*sample)) + [line[5]]\n",
    "                else:\n",
    "                    sample = list(chain(*sample)) + [None]\n",
    "                if sample.count(None) < dirty_acceptation:\n",
    "                    output.append(sample)\n",
    "                s = 0\n",
    "                dirty = False\n",
    "                sample = [[None for i in range(9)] for i in range(5)]\n",
    "        return output\n",
    "    return output"
   ]
  },
  {
   "cell_type": "code",
   "execution_count": 2,
   "id": "f3217ace",
   "metadata": {},
   "outputs": [],
   "source": [
    "import os\n",
    "dataset_path = './datasets/LK3 050L'\n",
    "learning_dataset = []\n",
    "\n",
    "for year in os.listdir(dataset_path):\n",
    "    for month in os.listdir('/'.join([dataset_path, year])):\n",
    "        for f in os.listdir('/'.join([dataset_path, year, month])):\n",
    "            if f.endswith('.csv'):\n",
    "                learning_dataset = learning_dataset + process_csv('/'.join([dataset_path, year, month, f]))"
   ]
  },
  {
   "cell_type": "code",
   "execution_count": 3,
   "id": "94a38f0d",
   "metadata": {},
   "outputs": [],
   "source": [
    "import numpy as np\n",
    "learning_dataset_np = np.array(learning_dataset, dtype=float)\n",
    "means = np.nanmean(learning_dataset_np, axis=0)\n",
    "means[np.isnan(means)] = 0\n",
    "for i in range(means.size):\n",
    "    learning_dataset_np[:,i][np.isnan(learning_dataset_np[:,i])] = means[i]"
   ]
  },
  {
   "cell_type": "code",
   "execution_count": null,
   "id": "508c3b9c",
   "metadata": {},
   "outputs": [
    {
     "name": "stdout",
     "output_type": "stream",
     "text": [
      "1623539621.4641385\n"
     ]
    }
   ],
   "source": [
    "from sklearn.neighbors import LocalOutlierFactor\n",
    "import time\n",
    "print(time.time())\n",
    "clf = LocalOutlierFactor(n_neighbors=2, novelty=True).fit(learning_dataset_np)\n",
    "print(time.time())"
   ]
  },
  {
   "cell_type": "code",
   "execution_count": null,
   "id": "92461906",
   "metadata": {},
   "outputs": [],
   "source": [
    "import os\n",
    "dataset_path = './datasets_incoming_accident/LK3 050L'\n",
    "test_dataset = []\n",
    "\n",
    "for year in os.listdir(dataset_path):\n",
    "    for month in os.listdir('/'.join([dataset_path, year])):\n",
    "        for f in os.listdir('/'.join([dataset_path, year, month])):\n",
    "            if f.endswith('.csv'):\n",
    "                test_dataset = test_dataset + process_csv('/'.join([dataset_path, year, month, f]))"
   ]
  },
  {
   "cell_type": "code",
   "execution_count": null,
   "id": "6762b958",
   "metadata": {},
   "outputs": [],
   "source": [
    "import numpy as np\n",
    "test_dataset_np = np.array(test_dataset, dtype=float)\n",
    "means = np.nanmean(test_dataset_np, axis=0)\n",
    "means[np.isnan(means)] = 0\n",
    "for i in range(means.size):\n",
    "    test_dataset_np[:,i][np.isnan(test_dataset_np[:,i])] = means[i]"
   ]
  },
  {
   "cell_type": "code",
   "execution_count": null,
   "id": "b5099894",
   "metadata": {},
   "outputs": [],
   "source": [
    "dd = clf.predict(test_dataset_np)"
   ]
  },
  {
   "cell_type": "code",
   "execution_count": null,
   "id": "974e19ac",
   "metadata": {},
   "outputs": [],
   "source": [
    "np.count_nonzero(dd == -1) / len(dd)"
   ]
  },
  {
   "cell_type": "code",
   "execution_count": null,
   "id": "61a97c0f",
   "metadata": {},
   "outputs": [],
   "source": [
    "dd2 = clf.predict(learning_dataset_np[:100000])"
   ]
  },
  {
   "cell_type": "code",
   "execution_count": null,
   "id": "4b00d5f1",
   "metadata": {},
   "outputs": [],
   "source": [
    "np.count_nonzero(dd2 == -1) / len(dd2)"
   ]
  },
  {
   "cell_type": "code",
   "execution_count": null,
   "id": "4856d181",
   "metadata": {},
   "outputs": [],
   "source": [
    "import os\n",
    "import numpy as np\n",
    "dataset_path = './datasets_incoming_accident/LK3 050L'\n",
    "test_dataset = []\n",
    "\n",
    "for year in os.listdir(dataset_path):\n",
    "    for month in os.listdir('/'.join([dataset_path, year])):\n",
    "        for f in os.listdir('/'.join([dataset_path, year, month])):\n",
    "            if f.endswith('.csv'):\n",
    "                file_path = '/'.join([dataset_path, year, month, f])\n",
    "                test_dataset = process_csv(file_path)\n",
    "                if len(test_dataset) > 0:\n",
    "                    test_dataset_np = np.array(test_dataset, dtype=float)\n",
    "                    means = np.nanmean(test_dataset_np, axis=0)\n",
    "                    means[np.isnan(means)] = 0\n",
    "                    for i in range(means.size):\n",
    "                        test_dataset_np[:,i][np.isnan(test_dataset_np[:,i])] = means[i]\n",
    "                    dd = clf.predict(test_dataset_np)\n",
    "                    anomaly_percentage = np.count_nonzero(dd == -1) * 100 // len(dd)\n",
    "                    print(\"{}: {}% anomalii\".format(file_path, anomaly_percentage))"
   ]
  },
  {
   "cell_type": "code",
   "execution_count": null,
   "id": "5342d5d3",
   "metadata": {},
   "outputs": [],
   "source": []
  }
 ],
 "metadata": {
  "kernelspec": {
   "display_name": "Python 3",
   "language": "python",
   "name": "python3"
  },
  "language_info": {
   "codemirror_mode": {
    "name": "ipython",
    "version": 3
   },
   "file_extension": ".py",
   "mimetype": "text/x-python",
   "name": "python",
   "nbconvert_exporter": "python",
   "pygments_lexer": "ipython3",
   "version": "3.9.2"
  }
 },
 "nbformat": 4,
 "nbformat_minor": 5
}
